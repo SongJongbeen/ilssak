{
 "cells": [
  {
   "cell_type": "code",
   "execution_count": 54,
   "metadata": {},
   "outputs": [],
   "source": [
    "import re"
   ]
  },
  {
   "cell_type": "code",
   "execution_count": 59,
   "metadata": {},
   "outputs": [],
   "source": [
    "with open(\"records/output-0717.txt\", \"r\") as f:\n",
    "    text = f.read()\n",
    "\n",
    "# print(text)"
   ]
  },
  {
   "cell_type": "code",
   "execution_count": 63,
   "metadata": {},
   "outputs": [],
   "source": [
    "# pattern = r'\\[\\s*\"\\d+\"\\s*,\\s*\".*?\"\\s*,\\s*\"\\d+\"\\s*,\\s*\"\\d+\"\\s*\\],|\\[\\s*\"ID\"\\s*,\\s*\".*?\"\\s*,\\s*\".*?\"\\s*,\\s*\".*?\"\\s*\\],|\\[\\s*\"\\d+\"\\s*,\\s*\"\\(.*?\\)\"\\s*,\\s*\"\\(.*?\\)\"\\s*,\\s*\"\\(.*?\\)\"\\s*\\],'\n",
    "# cleaned_text = re.sub(pattern, '', text, flags=re.DOTALL)\n",
    "\n",
    "pattern = r'\\{\\s*\"imageURL\":\\s*(null|\"https?:\\/\\/[^\"]*\"),\\s*\"role\":\\s*\"(streaming_chat_manager|common_user)\",\\s*\"followDate\":\\s*(null|\"\\d{4}-\\d{2}-\\d{2} \\d{2}:\\d{2}:\\d{2}\")\\s*\\}'\n",
    "cleaned_text = re.sub(pattern, '', text, flags=re.DOTALL)\n",
    "\n",
    "# print(cleaned_text)"
   ]
  },
  {
   "cell_type": "code",
   "execution_count": 64,
   "metadata": {},
   "outputs": [],
   "source": [
    "# delete every line break that is more than 2\n",
    "pattern = r'\\n{2,}'\n",
    "cleaned_text = re.sub(\"  \\n\", '', cleaned_text, flags=re.DOTALL)"
   ]
  },
  {
   "cell_type": "code",
   "execution_count": 65,
   "metadata": {},
   "outputs": [],
   "source": [
    "with open(\"records/output-0717-cleaned.log\", \"w\") as f:\n",
    "    f.write(cleaned_text)"
   ]
  },
  {
   "cell_type": "code",
   "execution_count": null,
   "metadata": {},
   "outputs": [],
   "source": []
  }
 ],
 "metadata": {
  "kernelspec": {
   "display_name": "chzzk",
   "language": "python",
   "name": "python3"
  },
  "language_info": {
   "codemirror_mode": {
    "name": "ipython",
    "version": 3
   },
   "file_extension": ".py",
   "mimetype": "text/x-python",
   "name": "python",
   "nbconvert_exporter": "python",
   "pygments_lexer": "ipython3",
   "version": "3.12.2"
  }
 },
 "nbformat": 4,
 "nbformat_minor": 2
}
